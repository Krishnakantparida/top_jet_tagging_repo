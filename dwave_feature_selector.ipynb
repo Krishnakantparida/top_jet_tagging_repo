{
 "cells": [
  {
   "cell_type": "code",
   "execution_count": null,
   "id": "c7e53ace",
   "metadata": {},
   "outputs": [],
   "source": [
    "import numpy as np\n",
    "import pandas as pd\n",
    "\n",
    "from dwave.plugins.sklearn import SelectFromQuadraticModel\n",
    "from sklearn.feature_selection import SelectKBest\n",
    "from sklearn.feature_selection import mutual_info_classif\n",
    "\n",
    "from sklearn.pipeline import Pipeline\n",
    "from sklearn.ensemble import RandomForestClassifier\n",
    "from sklearn.model_selection import GridSearchCV"
   ]
  },
  {
   "cell_type": "code",
   "execution_count": null,
   "id": "d8ef0d9d",
   "metadata": {},
   "outputs": [],
   "source": [
    "data = pd.read_csv('train_800_feature_2000.csv')"
   ]
  },
  {
   "cell_type": "code",
   "execution_count": null,
   "id": "b2e04aea",
   "metadata": {},
   "outputs": [],
   "source": [
    "variable_list = [['E_%d'%i, 'PX_%d'%i, 'PY_%d'%i, 'PZ_%d'%i] for i in range(127) ]\n",
    "\n",
    "variable = []\n",
    "for var in variable_list:\n",
    "    variable += var\n",
    "variable += ['is_signal_new']"
   ]
  },
  {
   "cell_type": "code",
   "execution_count": null,
   "id": "1bb07905",
   "metadata": {},
   "outputs": [],
   "source": [
    "X = data[variable[:-1]]\n",
    "Y = data[variable[-1]]\n",
    "corr_matrix = pd.DataFrame(X).corr()\n",
    "corr_matrix.style.background_gradient(cmap='coolwarm')"
   ]
  },
  {
   "cell_type": "code",
   "execution_count": null,
   "id": "3870951e",
   "metadata": {
    "scrolled": true
   },
   "outputs": [],
   "source": [
    "selector = SelectFromQuadraticModel(num_features=16)\n",
    "X_new = selector.fit_transform(X, Y)\n",
    "X.shape\n",
    "Y.shape\n",
    "selector.get_support()"
   ]
  },
  {
   "cell_type": "code",
   "execution_count": null,
   "id": "3d5da9be",
   "metadata": {},
   "outputs": [],
   "source": [
    "selector_class = SelectKBest(k = 16)\n",
    "X_new_class = selector_class.fit_transform(X, Y)\n",
    "selector_class.get_support()"
   ]
  },
  {
   "cell_type": "code",
   "execution_count": null,
   "id": "2c799318",
   "metadata": {},
   "outputs": [],
   "source": [
    "selector_class.get_support().shape"
   ]
  },
  {
   "cell_type": "code",
   "execution_count": null,
   "id": "3176e95d",
   "metadata": {},
   "outputs": [],
   "source": [
    "corr_matrix_selected = pd.DataFrame(X_new).corr()\n",
    "corr_matrix_selected.style.background_gradient(cmap='coolwarm')"
   ]
  },
  {
   "cell_type": "code",
   "execution_count": null,
   "id": "296c368a",
   "metadata": {},
   "outputs": [],
   "source": []
  }
 ],
 "metadata": {
  "kernelspec": {
   "display_name": "Python 3 (ipykernel)",
   "language": "python",
   "name": "python3"
  },
  "language_info": {
   "codemirror_mode": {
    "name": "ipython",
    "version": 3
   },
   "file_extension": ".py",
   "mimetype": "text/x-python",
   "name": "python",
   "nbconvert_exporter": "python",
   "pygments_lexer": "ipython3",
   "version": "3.11.1"
  }
 },
 "nbformat": 4,
 "nbformat_minor": 5
}
